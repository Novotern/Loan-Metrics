{
 "cells": [
  {
   "cell_type": "markdown",
   "metadata": {},
   "source": [
    "# Interest Rate Spread\n",
    "\n",
    "Interest Rate Spread is a fundamental measure used in the finance and banking industry to evaluate the profitability of lending activities. It represents the difference between the interest rate earned on loans extended by a financial institution and the interest rate paid on the deposits it holds or other funding sources.\n",
    "\n",
    "Interest Rate Spread = Loan Interest Rate - Deposit Interest Rate\n",
    "\n",
    "The interest rate spread is a crucial metric for assessing the profitability and efficiency of lending operations. A positive spread indicates that the institution is earning more from its loans than it is paying on its funding sources, resulting in net interest income. Conversely, a negative spread suggests that the institution may be paying out more in interest than it is earning from its loans, potentially leading to reduced profitability or losses.\n",
    "\n",
    "Financial institutions carefully manage their interest rate spread to ensure that it is sufficient to cover operating expenses, credit risk, loan loss provisions, and provide an adequate return to shareholders. Changes in market interest rates, economic conditions, and regulatory policies can impact the interest rate spread, making it essential for institutions to monitor and adjust their lending practices accordingly.\n",
    "\n",
    "In summary, the interest rate spread is a key metric used by financial institutions to assess the profitability and risk of their lending activities, providing insights into their overall financial health and performance."
   ]
  },
  {
   "cell_type": "markdown",
   "metadata": {},
   "source": [
    "### Creating a Mock Data"
   ]
  },
  {
   "cell_type": "code",
   "execution_count": 2,
   "metadata": {},
   "outputs": [
    {
     "data": {
      "text/html": [
       "<div>\n",
       "<style scoped>\n",
       "    .dataframe tbody tr th:only-of-type {\n",
       "        vertical-align: middle;\n",
       "    }\n",
       "\n",
       "    .dataframe tbody tr th {\n",
       "        vertical-align: top;\n",
       "    }\n",
       "\n",
       "    .dataframe thead th {\n",
       "        text-align: right;\n",
       "    }\n",
       "</style>\n",
       "<table border=\"1\" class=\"dataframe\">\n",
       "  <thead>\n",
       "    <tr style=\"text-align: right;\">\n",
       "      <th></th>\n",
       "      <th>date</th>\n",
       "      <th>month</th>\n",
       "      <th>loan_volume</th>\n",
       "      <th>interest_rate_loans</th>\n",
       "      <th>interest_rate_deposits</th>\n",
       "      <th>interest_rate_spread</th>\n",
       "      <th>unemployment_rate</th>\n",
       "    </tr>\n",
       "  </thead>\n",
       "  <tbody>\n",
       "    <tr>\n",
       "      <th>0</th>\n",
       "      <td>2020-01-01</td>\n",
       "      <td>1</td>\n",
       "      <td>1.352810e+06</td>\n",
       "      <td>4.240350</td>\n",
       "      <td>1.478155</td>\n",
       "      <td>2.762196</td>\n",
       "      <td>3.174087</td>\n",
       "    </tr>\n",
       "    <tr>\n",
       "      <th>1</th>\n",
       "      <td>2020-02-01</td>\n",
       "      <td>2</td>\n",
       "      <td>1.080031e+06</td>\n",
       "      <td>3.796819</td>\n",
       "      <td>1.147128</td>\n",
       "      <td>2.649692</td>\n",
       "      <td>4.303250</td>\n",
       "    </tr>\n",
       "    <tr>\n",
       "      <th>2</th>\n",
       "      <td>2020-03-01</td>\n",
       "      <td>3</td>\n",
       "      <td>1.195748e+06</td>\n",
       "      <td>4.294958</td>\n",
       "      <td>1.844820</td>\n",
       "      <td>2.450138</td>\n",
       "      <td>3.935388</td>\n",
       "    </tr>\n",
       "    <tr>\n",
       "      <th>3</th>\n",
       "      <td>2020-04-01</td>\n",
       "      <td>4</td>\n",
       "      <td>1.448179e+06</td>\n",
       "      <td>4.535657</td>\n",
       "      <td>1.051343</td>\n",
       "      <td>3.484315</td>\n",
       "      <td>5.089030</td>\n",
       "    </tr>\n",
       "    <tr>\n",
       "      <th>4</th>\n",
       "      <td>2020-05-01</td>\n",
       "      <td>5</td>\n",
       "      <td>1.373512e+06</td>\n",
       "      <td>3.660369</td>\n",
       "      <td>1.153797</td>\n",
       "      <td>2.506571</td>\n",
       "      <td>4.133256</td>\n",
       "    </tr>\n",
       "  </tbody>\n",
       "</table>\n",
       "</div>"
      ],
      "text/plain": [
       "        date  month   loan_volume  interest_rate_loans  \\\n",
       "0 2020-01-01      1  1.352810e+06             4.240350   \n",
       "1 2020-02-01      2  1.080031e+06             3.796819   \n",
       "2 2020-03-01      3  1.195748e+06             4.294958   \n",
       "3 2020-04-01      4  1.448179e+06             4.535657   \n",
       "4 2020-05-01      5  1.373512e+06             3.660369   \n",
       "\n",
       "   interest_rate_deposits  interest_rate_spread  unemployment_rate  \n",
       "0                1.478155              2.762196           3.174087  \n",
       "1                1.147128              2.649692           4.303250  \n",
       "2                1.844820              2.450138           3.935388  \n",
       "3                1.051343              3.484315           5.089030  \n",
       "4                1.153797              2.506571           4.133256  "
      ]
     },
     "execution_count": 2,
     "metadata": {},
     "output_type": "execute_result"
    }
   ],
   "source": [
    "import pandas as pd\n",
    "import numpy as np\n",
    "\n",
    "# Generating sample data\n",
    "np.random.seed(0)\n",
    "num_months = 60\n",
    "\n",
    "# Generate date range\n",
    "start_date = pd.Timestamp('2020-01-01')\n",
    "end_date = pd.Timestamp('2024-12-01')\n",
    "dates = pd.date_range(start=start_date, end=end_date, freq='MS')\n",
    "\n",
    "# Sample data for loan volume\n",
    "loan_volume = np.random.normal(loc=1000000, scale=200000, size=num_months)\n",
    "\n",
    "# Sample data for interest rate spread\n",
    "interest_rate_loans = np.random.uniform(low=3.5, high=6, size=num_months)\n",
    "interest_rate_deposits = np.random.uniform(low=0.5, high=2, size=num_months)\n",
    "interest_rate_spread = interest_rate_loans - interest_rate_deposits\n",
    "\n",
    "# Sample data for unemployment rate\n",
    "unemployment_rate = np.random.uniform(low=3, high=6, size=num_months)\n",
    "\n",
    "# Create DataFrame\n",
    "data = pd.DataFrame({\n",
    "    'date': dates,\n",
    "    'loan_volume': loan_volume,\n",
    "    'interest_rate_deposits': interest_rate_deposits,\n",
    "    'interest_rate_loans': interest_rate_loans,\n",
    "    'interest_rate_spread': interest_rate_spread,\n",
    "    'unemployment_rate': unemployment_rate\n",
    "})\n",
    "\n",
    "# Extract month from the date\n",
    "data['month'] = data['date'].dt.month\n",
    "\n",
    "# Reorder columns\n",
    "data = data[['date', 'month', 'loan_volume', 'interest_rate_loans', 'interest_rate_deposits', 'interest_rate_spread', 'unemployment_rate']]\n",
    "\n",
    "# Save the data\n",
    "data.to_csv('loan_data.csv', index=False)\n",
    "\n",
    "# Display the dataset\n",
    "data.head()"
   ]
  },
  {
   "cell_type": "code",
   "execution_count": 3,
   "metadata": {},
   "outputs": [],
   "source": [
    "import plotly.express as px\n",
    "import plotly.graph_objects as go"
   ]
  },
  {
   "cell_type": "code",
   "execution_count": 4,
   "metadata": {},
   "outputs": [
    {
     "data": {
      "text/html": [
       "<div>\n",
       "<style scoped>\n",
       "    .dataframe tbody tr th:only-of-type {\n",
       "        vertical-align: middle;\n",
       "    }\n",
       "\n",
       "    .dataframe tbody tr th {\n",
       "        vertical-align: top;\n",
       "    }\n",
       "\n",
       "    .dataframe thead th {\n",
       "        text-align: right;\n",
       "    }\n",
       "</style>\n",
       "<table border=\"1\" class=\"dataframe\">\n",
       "  <thead>\n",
       "    <tr style=\"text-align: right;\">\n",
       "      <th></th>\n",
       "      <th>date</th>\n",
       "      <th>month</th>\n",
       "      <th>loan_volume</th>\n",
       "      <th>interest_rate_loans</th>\n",
       "      <th>interest_rate_deposits</th>\n",
       "      <th>interest_rate_spread</th>\n",
       "      <th>unemployment_rate</th>\n",
       "    </tr>\n",
       "  </thead>\n",
       "  <tbody>\n",
       "    <tr>\n",
       "      <th>0</th>\n",
       "      <td>2020-01-01</td>\n",
       "      <td>1</td>\n",
       "      <td>1.352810e+06</td>\n",
       "      <td>4.240350</td>\n",
       "      <td>1.478155</td>\n",
       "      <td>2.762196</td>\n",
       "      <td>3.174087</td>\n",
       "    </tr>\n",
       "    <tr>\n",
       "      <th>1</th>\n",
       "      <td>2020-02-01</td>\n",
       "      <td>2</td>\n",
       "      <td>1.080031e+06</td>\n",
       "      <td>3.796819</td>\n",
       "      <td>1.147128</td>\n",
       "      <td>2.649692</td>\n",
       "      <td>4.303250</td>\n",
       "    </tr>\n",
       "    <tr>\n",
       "      <th>2</th>\n",
       "      <td>2020-03-01</td>\n",
       "      <td>3</td>\n",
       "      <td>1.195748e+06</td>\n",
       "      <td>4.294958</td>\n",
       "      <td>1.844820</td>\n",
       "      <td>2.450138</td>\n",
       "      <td>3.935388</td>\n",
       "    </tr>\n",
       "    <tr>\n",
       "      <th>3</th>\n",
       "      <td>2020-04-01</td>\n",
       "      <td>4</td>\n",
       "      <td>1.448179e+06</td>\n",
       "      <td>4.535657</td>\n",
       "      <td>1.051343</td>\n",
       "      <td>3.484315</td>\n",
       "      <td>5.089030</td>\n",
       "    </tr>\n",
       "    <tr>\n",
       "      <th>4</th>\n",
       "      <td>2020-05-01</td>\n",
       "      <td>5</td>\n",
       "      <td>1.373512e+06</td>\n",
       "      <td>3.660369</td>\n",
       "      <td>1.153797</td>\n",
       "      <td>2.506571</td>\n",
       "      <td>4.133256</td>\n",
       "    </tr>\n",
       "  </tbody>\n",
       "</table>\n",
       "</div>"
      ],
      "text/plain": [
       "         date  month   loan_volume  interest_rate_loans  \\\n",
       "0  2020-01-01      1  1.352810e+06             4.240350   \n",
       "1  2020-02-01      2  1.080031e+06             3.796819   \n",
       "2  2020-03-01      3  1.195748e+06             4.294958   \n",
       "3  2020-04-01      4  1.448179e+06             4.535657   \n",
       "4  2020-05-01      5  1.373512e+06             3.660369   \n",
       "\n",
       "   interest_rate_deposits  interest_rate_spread  unemployment_rate  \n",
       "0                1.478155              2.762196           3.174087  \n",
       "1                1.147128              2.649692           4.303250  \n",
       "2                1.844820              2.450138           3.935388  \n",
       "3                1.051343              3.484315           5.089030  \n",
       "4                1.153797              2.506571           4.133256  "
      ]
     },
     "execution_count": 4,
     "metadata": {},
     "output_type": "execute_result"
    }
   ],
   "source": [
    "df=pd.read_csv(\"loan_data.csv\")\n",
    "df.head()"
   ]
  },
  {
   "cell_type": "code",
   "execution_count": 5,
   "metadata": {},
   "outputs": [
    {
     "data": {
      "text/plain": [
       "date                       object\n",
       "month                       int64\n",
       "loan_volume               float64\n",
       "interest_rate_loans       float64\n",
       "interest_rate_deposits    float64\n",
       "interest_rate_spread      float64\n",
       "unemployment_rate         float64\n",
       "dtype: object"
      ]
     },
     "execution_count": 5,
     "metadata": {},
     "output_type": "execute_result"
    }
   ],
   "source": [
    "df.dtypes"
   ]
  },
  {
   "cell_type": "markdown",
   "metadata": {},
   "source": [
    "EXTRACT YEAR FROM DATE"
   ]
  },
  {
   "cell_type": "code",
   "execution_count": 6,
   "metadata": {},
   "outputs": [
    {
     "data": {
      "text/html": [
       "<div>\n",
       "<style scoped>\n",
       "    .dataframe tbody tr th:only-of-type {\n",
       "        vertical-align: middle;\n",
       "    }\n",
       "\n",
       "    .dataframe tbody tr th {\n",
       "        vertical-align: top;\n",
       "    }\n",
       "\n",
       "    .dataframe thead th {\n",
       "        text-align: right;\n",
       "    }\n",
       "</style>\n",
       "<table border=\"1\" class=\"dataframe\">\n",
       "  <thead>\n",
       "    <tr style=\"text-align: right;\">\n",
       "      <th></th>\n",
       "      <th>date</th>\n",
       "      <th>month</th>\n",
       "      <th>loan_volume</th>\n",
       "      <th>interest_rate_loans</th>\n",
       "      <th>interest_rate_deposits</th>\n",
       "      <th>interest_rate_spread</th>\n",
       "      <th>unemployment_rate</th>\n",
       "      <th>year</th>\n",
       "    </tr>\n",
       "  </thead>\n",
       "  <tbody>\n",
       "    <tr>\n",
       "      <th>0</th>\n",
       "      <td>2020-01-01</td>\n",
       "      <td>1</td>\n",
       "      <td>1.352810e+06</td>\n",
       "      <td>4.240350</td>\n",
       "      <td>1.478155</td>\n",
       "      <td>2.762196</td>\n",
       "      <td>3.174087</td>\n",
       "      <td>2020</td>\n",
       "    </tr>\n",
       "    <tr>\n",
       "      <th>1</th>\n",
       "      <td>2020-02-01</td>\n",
       "      <td>2</td>\n",
       "      <td>1.080031e+06</td>\n",
       "      <td>3.796819</td>\n",
       "      <td>1.147128</td>\n",
       "      <td>2.649692</td>\n",
       "      <td>4.303250</td>\n",
       "      <td>2020</td>\n",
       "    </tr>\n",
       "    <tr>\n",
       "      <th>2</th>\n",
       "      <td>2020-03-01</td>\n",
       "      <td>3</td>\n",
       "      <td>1.195748e+06</td>\n",
       "      <td>4.294958</td>\n",
       "      <td>1.844820</td>\n",
       "      <td>2.450138</td>\n",
       "      <td>3.935388</td>\n",
       "      <td>2020</td>\n",
       "    </tr>\n",
       "    <tr>\n",
       "      <th>3</th>\n",
       "      <td>2020-04-01</td>\n",
       "      <td>4</td>\n",
       "      <td>1.448179e+06</td>\n",
       "      <td>4.535657</td>\n",
       "      <td>1.051343</td>\n",
       "      <td>3.484315</td>\n",
       "      <td>5.089030</td>\n",
       "      <td>2020</td>\n",
       "    </tr>\n",
       "    <tr>\n",
       "      <th>4</th>\n",
       "      <td>2020-05-01</td>\n",
       "      <td>5</td>\n",
       "      <td>1.373512e+06</td>\n",
       "      <td>3.660369</td>\n",
       "      <td>1.153797</td>\n",
       "      <td>2.506571</td>\n",
       "      <td>4.133256</td>\n",
       "      <td>2020</td>\n",
       "    </tr>\n",
       "  </tbody>\n",
       "</table>\n",
       "</div>"
      ],
      "text/plain": [
       "        date  month   loan_volume  interest_rate_loans  \\\n",
       "0 2020-01-01      1  1.352810e+06             4.240350   \n",
       "1 2020-02-01      2  1.080031e+06             3.796819   \n",
       "2 2020-03-01      3  1.195748e+06             4.294958   \n",
       "3 2020-04-01      4  1.448179e+06             4.535657   \n",
       "4 2020-05-01      5  1.373512e+06             3.660369   \n",
       "\n",
       "   interest_rate_deposits  interest_rate_spread  unemployment_rate  year  \n",
       "0                1.478155              2.762196           3.174087  2020  \n",
       "1                1.147128              2.649692           4.303250  2020  \n",
       "2                1.844820              2.450138           3.935388  2020  \n",
       "3                1.051343              3.484315           5.089030  2020  \n",
       "4                1.153797              2.506571           4.133256  2020  "
      ]
     },
     "execution_count": 6,
     "metadata": {},
     "output_type": "execute_result"
    }
   ],
   "source": [
    "df['date']=pd.to_datetime(df['date'])\n",
    "df['year']=df['date'].dt.year\n",
    "df.head()"
   ]
  },
  {
   "cell_type": "code",
   "execution_count": 7,
   "metadata": {},
   "outputs": [
    {
     "data": {
      "text/plain": [
       "2020"
      ]
     },
     "execution_count": 7,
     "metadata": {},
     "output_type": "execute_result"
    }
   ],
   "source": [
    "max(df['year'])\n",
    "min(df['year'])"
   ]
  },
  {
   "cell_type": "markdown",
   "metadata": {},
   "source": [
    "THE TREND OF INTEREST RATE SPREAD OVER TIME"
   ]
  },
  {
   "cell_type": "code",
   "execution_count": 8,
   "metadata": {},
   "outputs": [],
   "source": [
    "\n",
    "df_2020=df[df['year'] == 2020]\n",
    "df_2021=df[df['year'] == 2021]\n",
    "df_2022=df[df['year'] == 2022]\n",
    "df_2023=df[df['year'] == 2023]\n",
    "df_2024=df[df['year'] == 2024]"
   ]
  },
  {
   "cell_type": "code",
   "execution_count": 22,
   "metadata": {},
   "outputs": [
    {
     "data": {
      "application/vnd.plotly.v1+json": {
       "config": {
        "plotlyServerURL": "https://plot.ly"
       },
       "data": [
        {
         "line": {
          "color": "firebrick",
          "width": 2
         },
         "mode": "markers+lines",
         "name": "Interest Rate Spread 2020",
         "type": "scatter",
         "x": [
          1,
          2,
          3,
          4,
          5,
          6,
          7,
          8,
          9,
          10,
          11,
          12,
          1,
          2,
          3,
          4,
          5,
          6,
          7,
          8,
          9,
          10,
          11,
          12,
          1,
          2,
          3,
          4,
          5,
          6,
          7,
          8,
          9,
          10,
          11,
          12,
          1,
          2,
          3,
          4,
          5,
          6,
          7,
          8,
          9,
          10,
          11,
          12,
          1,
          2,
          3,
          4,
          5,
          6,
          7,
          8,
          9,
          10,
          11,
          12
         ],
         "y": [
          2.762195588802829,
          2.649691644234649,
          2.4501380547083462,
          3.4843146812148307,
          2.5065713529735207,
          3.393295265901542,
          3.2072126519473096,
          2.607640852038064,
          4.157779802698298,
          1.855627356279094,
          3.368504289566781,
          3.8249699840887352
         ]
        },
        {
         "line": {
          "color": "royalblue",
          "width": 2
         },
         "mode": "markers+lines",
         "name": "Interest Rate Spread 2021",
         "type": "scatter",
         "x": [
          1,
          2,
          3,
          4,
          5,
          6,
          7,
          8,
          9,
          10,
          11,
          12,
          1,
          2,
          3,
          4,
          5,
          6,
          7,
          8,
          9,
          10,
          11,
          12,
          1,
          2,
          3,
          4,
          5,
          6,
          7,
          8,
          9,
          10,
          11,
          12,
          1,
          2,
          3,
          4,
          5,
          6,
          7,
          8,
          9,
          10,
          11,
          12,
          1,
          2,
          3,
          4,
          5,
          6,
          7,
          8,
          9,
          10,
          11,
          12
         ],
         "y": [
          3.5722499241413184,
          3.366336863856884,
          3.0857552539964184,
          3.867478663870648,
          3.537785258093841,
          2.18596606103444,
          3.2553038989376915,
          2.196617757546844,
          4.461575127204409,
          2.9079881972986605,
          3.64839818227373,
          2.994705908963309
         ]
        },
        {
         "line": {
          "color": "red",
          "width": 2
         },
         "mode": "markers+lines",
         "name": "Interest Rate Spread 2022",
         "type": "scatter",
         "x": [
          1,
          2,
          3,
          4,
          5,
          6,
          7,
          8,
          9,
          10,
          11,
          12,
          1,
          2,
          3,
          4,
          5,
          6,
          7,
          8,
          9,
          10,
          11,
          12,
          1,
          2,
          3,
          4,
          5,
          6,
          7,
          8,
          9,
          10,
          11,
          12,
          1,
          2,
          3,
          4,
          5,
          6,
          7,
          8,
          9,
          10,
          11,
          12,
          1,
          2,
          3,
          4,
          5,
          6,
          7,
          8,
          9,
          10,
          11,
          12
         ],
         "y": [
          3.754901656100965,
          4.105897873900652,
          2.158600601295566,
          3.156688322455676,
          4.462533701902094,
          3.8906626677596376,
          2.462718237965459,
          5.124428012900302,
          3.3362585372378746,
          5.034514698668939,
          4.44870340094916,
          3.7158096854469136
         ]
        },
        {
         "line": {
          "color": "green",
          "width": 2
         },
         "mode": "markers+lines",
         "name": "Interest Rate Spread 2023",
         "type": "scatter",
         "x": [
          1,
          2,
          3,
          4,
          5,
          6,
          7,
          8,
          9,
          10,
          11,
          12,
          1,
          2,
          3,
          4,
          5,
          6,
          7,
          8,
          9,
          10,
          11,
          12,
          1,
          2,
          3,
          4,
          5,
          6,
          7,
          8,
          9,
          10,
          11,
          12,
          1,
          2,
          3,
          4,
          5,
          6,
          7,
          8,
          9,
          10,
          11,
          12,
          1,
          2,
          3,
          4,
          5,
          6,
          7,
          8,
          9,
          10,
          11,
          12
         ],
         "y": [
          3.843947994220062,
          3.6553773200268913,
          4.68473047173255,
          3.06106024139126,
          4.147716801751834,
          4.683570580897452,
          4.566094464802232,
          3.32109335256711,
          4.524366203901808,
          4.253136266012331,
          2.6583166245082586,
          3.595034101370968
         ]
        },
        {
         "line": {
          "color": "yellow",
          "width": 2
         },
         "mode": "markers+lines",
         "name": "Interest Rate Spread 2024",
         "type": "scatter",
         "x": [
          1,
          2,
          3,
          4,
          5,
          6,
          7,
          8,
          9,
          10,
          11,
          12,
          1,
          2,
          3,
          4,
          5,
          6,
          7,
          8,
          9,
          10,
          11,
          12,
          1,
          2,
          3,
          4,
          5,
          6,
          7,
          8,
          9,
          10,
          11,
          12,
          1,
          2,
          3,
          4,
          5,
          6,
          7,
          8,
          9,
          10,
          11,
          12,
          1,
          2,
          3,
          4,
          5,
          6,
          7,
          8,
          9,
          10,
          11,
          12
         ],
         "y": [
          2.244533791235896,
          2.8690720771545166,
          3.555250799456558,
          3.2572765248067075,
          3.947706979172966,
          3.757156128901733,
          3.0593956517356213,
          2.329147229914177,
          3.3155860841792304,
          3.7414936901940825,
          4.094691180163962,
          4.251467326987244
         ]
        }
       ],
       "layout": {
        "annotations": [
         {
          "font": {
           "color": "black"
          },
          "showarrow": false,
          "text": "2.76",
          "x": 1,
          "xanchor": "center",
          "y": 2.762195588802829,
          "yanchor": "bottom",
          "yshift": 10
         },
         {
          "font": {
           "color": "black"
          },
          "showarrow": false,
          "text": "2.65",
          "x": 2,
          "xanchor": "center",
          "y": 2.649691644234649,
          "yanchor": "bottom",
          "yshift": 10
         },
         {
          "font": {
           "color": "black"
          },
          "showarrow": false,
          "text": "2.45",
          "x": 3,
          "xanchor": "center",
          "y": 2.4501380547083462,
          "yanchor": "bottom",
          "yshift": 10
         },
         {
          "font": {
           "color": "black"
          },
          "showarrow": false,
          "text": "3.48",
          "x": 4,
          "xanchor": "center",
          "y": 3.4843146812148307,
          "yanchor": "bottom",
          "yshift": 10
         },
         {
          "font": {
           "color": "black"
          },
          "showarrow": false,
          "text": "2.51",
          "x": 5,
          "xanchor": "center",
          "y": 2.5065713529735207,
          "yanchor": "bottom",
          "yshift": 10
         },
         {
          "font": {
           "color": "black"
          },
          "showarrow": false,
          "text": "3.39",
          "x": 6,
          "xanchor": "center",
          "y": 3.393295265901542,
          "yanchor": "bottom",
          "yshift": 10
         },
         {
          "font": {
           "color": "black"
          },
          "showarrow": false,
          "text": "3.21",
          "x": 7,
          "xanchor": "center",
          "y": 3.2072126519473096,
          "yanchor": "bottom",
          "yshift": 10
         },
         {
          "font": {
           "color": "black"
          },
          "showarrow": false,
          "text": "2.61",
          "x": 8,
          "xanchor": "center",
          "y": 2.607640852038064,
          "yanchor": "bottom",
          "yshift": 10
         },
         {
          "font": {
           "color": "black"
          },
          "showarrow": false,
          "text": "4.16",
          "x": 9,
          "xanchor": "center",
          "y": 4.157779802698298,
          "yanchor": "bottom",
          "yshift": 10
         },
         {
          "font": {
           "color": "black"
          },
          "showarrow": false,
          "text": "1.86",
          "x": 10,
          "xanchor": "center",
          "y": 1.855627356279094,
          "yanchor": "bottom",
          "yshift": 10
         },
         {
          "font": {
           "color": "black"
          },
          "showarrow": false,
          "text": "3.37",
          "x": 11,
          "xanchor": "center",
          "y": 3.368504289566781,
          "yanchor": "bottom",
          "yshift": 10
         },
         {
          "font": {
           "color": "black"
          },
          "showarrow": false,
          "text": "3.82",
          "x": 12,
          "xanchor": "center",
          "y": 3.8249699840887352,
          "yanchor": "bottom",
          "yshift": 10
         },
         {
          "font": {
           "color": "black"
          },
          "showarrow": false,
          "text": "3.57",
          "x": 1,
          "xanchor": "center",
          "y": 3.5722499241413184,
          "yanchor": "bottom",
          "yshift": 10
         },
         {
          "font": {
           "color": "black"
          },
          "showarrow": false,
          "text": "3.37",
          "x": 2,
          "xanchor": "center",
          "y": 3.366336863856884,
          "yanchor": "bottom",
          "yshift": 10
         },
         {
          "font": {
           "color": "black"
          },
          "showarrow": false,
          "text": "3.09",
          "x": 3,
          "xanchor": "center",
          "y": 3.0857552539964184,
          "yanchor": "bottom",
          "yshift": 10
         },
         {
          "font": {
           "color": "black"
          },
          "showarrow": false,
          "text": "3.87",
          "x": 4,
          "xanchor": "center",
          "y": 3.867478663870648,
          "yanchor": "bottom",
          "yshift": 10
         },
         {
          "font": {
           "color": "black"
          },
          "showarrow": false,
          "text": "3.54",
          "x": 5,
          "xanchor": "center",
          "y": 3.537785258093841,
          "yanchor": "bottom",
          "yshift": 10
         },
         {
          "font": {
           "color": "black"
          },
          "showarrow": false,
          "text": "2.19",
          "x": 6,
          "xanchor": "center",
          "y": 2.18596606103444,
          "yanchor": "bottom",
          "yshift": 10
         },
         {
          "font": {
           "color": "black"
          },
          "showarrow": false,
          "text": "3.26",
          "x": 7,
          "xanchor": "center",
          "y": 3.2553038989376915,
          "yanchor": "bottom",
          "yshift": 10
         },
         {
          "font": {
           "color": "black"
          },
          "showarrow": false,
          "text": "2.2",
          "x": 8,
          "xanchor": "center",
          "y": 2.196617757546844,
          "yanchor": "bottom",
          "yshift": 10
         },
         {
          "font": {
           "color": "black"
          },
          "showarrow": false,
          "text": "4.46",
          "x": 9,
          "xanchor": "center",
          "y": 4.461575127204409,
          "yanchor": "bottom",
          "yshift": 10
         },
         {
          "font": {
           "color": "black"
          },
          "showarrow": false,
          "text": "2.91",
          "x": 10,
          "xanchor": "center",
          "y": 2.9079881972986605,
          "yanchor": "bottom",
          "yshift": 10
         },
         {
          "font": {
           "color": "black"
          },
          "showarrow": false,
          "text": "3.65",
          "x": 11,
          "xanchor": "center",
          "y": 3.64839818227373,
          "yanchor": "bottom",
          "yshift": 10
         },
         {
          "font": {
           "color": "black"
          },
          "showarrow": false,
          "text": "2.99",
          "x": 12,
          "xanchor": "center",
          "y": 2.994705908963309,
          "yanchor": "bottom",
          "yshift": 10
         },
         {
          "font": {
           "color": "black"
          },
          "showarrow": false,
          "text": "3.75",
          "x": 1,
          "xanchor": "center",
          "y": 3.754901656100965,
          "yanchor": "bottom",
          "yshift": 10
         },
         {
          "font": {
           "color": "black"
          },
          "showarrow": false,
          "text": "4.11",
          "x": 2,
          "xanchor": "center",
          "y": 4.105897873900652,
          "yanchor": "bottom",
          "yshift": 10
         },
         {
          "font": {
           "color": "black"
          },
          "showarrow": false,
          "text": "2.16",
          "x": 3,
          "xanchor": "center",
          "y": 2.158600601295566,
          "yanchor": "bottom",
          "yshift": 10
         },
         {
          "font": {
           "color": "black"
          },
          "showarrow": false,
          "text": "3.16",
          "x": 4,
          "xanchor": "center",
          "y": 3.156688322455676,
          "yanchor": "bottom",
          "yshift": 10
         },
         {
          "font": {
           "color": "black"
          },
          "showarrow": false,
          "text": "4.46",
          "x": 5,
          "xanchor": "center",
          "y": 4.462533701902094,
          "yanchor": "bottom",
          "yshift": 10
         },
         {
          "font": {
           "color": "black"
          },
          "showarrow": false,
          "text": "3.89",
          "x": 6,
          "xanchor": "center",
          "y": 3.8906626677596376,
          "yanchor": "bottom",
          "yshift": 10
         },
         {
          "font": {
           "color": "black"
          },
          "showarrow": false,
          "text": "2.46",
          "x": 7,
          "xanchor": "center",
          "y": 2.462718237965459,
          "yanchor": "bottom",
          "yshift": 10
         },
         {
          "font": {
           "color": "black"
          },
          "showarrow": false,
          "text": "5.12",
          "x": 8,
          "xanchor": "center",
          "y": 5.124428012900302,
          "yanchor": "bottom",
          "yshift": 10
         },
         {
          "font": {
           "color": "black"
          },
          "showarrow": false,
          "text": "3.34",
          "x": 9,
          "xanchor": "center",
          "y": 3.3362585372378746,
          "yanchor": "bottom",
          "yshift": 10
         },
         {
          "font": {
           "color": "black"
          },
          "showarrow": false,
          "text": "5.03",
          "x": 10,
          "xanchor": "center",
          "y": 5.034514698668939,
          "yanchor": "bottom",
          "yshift": 10
         },
         {
          "font": {
           "color": "black"
          },
          "showarrow": false,
          "text": "4.45",
          "x": 11,
          "xanchor": "center",
          "y": 4.44870340094916,
          "yanchor": "bottom",
          "yshift": 10
         },
         {
          "font": {
           "color": "black"
          },
          "showarrow": false,
          "text": "3.72",
          "x": 12,
          "xanchor": "center",
          "y": 3.7158096854469136,
          "yanchor": "bottom",
          "yshift": 10
         },
         {
          "font": {
           "color": "black"
          },
          "showarrow": false,
          "text": "3.84",
          "x": 1,
          "xanchor": "center",
          "y": 3.843947994220062,
          "yanchor": "bottom",
          "yshift": 10
         },
         {
          "font": {
           "color": "black"
          },
          "showarrow": false,
          "text": "3.66",
          "x": 2,
          "xanchor": "center",
          "y": 3.6553773200268913,
          "yanchor": "bottom",
          "yshift": 10
         },
         {
          "font": {
           "color": "black"
          },
          "showarrow": false,
          "text": "4.68",
          "x": 3,
          "xanchor": "center",
          "y": 4.68473047173255,
          "yanchor": "bottom",
          "yshift": 10
         },
         {
          "font": {
           "color": "black"
          },
          "showarrow": false,
          "text": "3.06",
          "x": 4,
          "xanchor": "center",
          "y": 3.06106024139126,
          "yanchor": "bottom",
          "yshift": 10
         },
         {
          "font": {
           "color": "black"
          },
          "showarrow": false,
          "text": "4.15",
          "x": 5,
          "xanchor": "center",
          "y": 4.147716801751834,
          "yanchor": "bottom",
          "yshift": 10
         },
         {
          "font": {
           "color": "black"
          },
          "showarrow": false,
          "text": "4.68",
          "x": 6,
          "xanchor": "center",
          "y": 4.683570580897452,
          "yanchor": "bottom",
          "yshift": 10
         },
         {
          "font": {
           "color": "black"
          },
          "showarrow": false,
          "text": "4.57",
          "x": 7,
          "xanchor": "center",
          "y": 4.566094464802232,
          "yanchor": "bottom",
          "yshift": 10
         },
         {
          "font": {
           "color": "black"
          },
          "showarrow": false,
          "text": "3.32",
          "x": 8,
          "xanchor": "center",
          "y": 3.32109335256711,
          "yanchor": "bottom",
          "yshift": 10
         },
         {
          "font": {
           "color": "black"
          },
          "showarrow": false,
          "text": "4.52",
          "x": 9,
          "xanchor": "center",
          "y": 4.524366203901808,
          "yanchor": "bottom",
          "yshift": 10
         },
         {
          "font": {
           "color": "black"
          },
          "showarrow": false,
          "text": "4.25",
          "x": 10,
          "xanchor": "center",
          "y": 4.253136266012331,
          "yanchor": "bottom",
          "yshift": 10
         },
         {
          "font": {
           "color": "black"
          },
          "showarrow": false,
          "text": "2.66",
          "x": 11,
          "xanchor": "center",
          "y": 2.6583166245082586,
          "yanchor": "bottom",
          "yshift": 10
         },
         {
          "font": {
           "color": "black"
          },
          "showarrow": false,
          "text": "3.6",
          "x": 12,
          "xanchor": "center",
          "y": 3.595034101370968,
          "yanchor": "bottom",
          "yshift": 10
         },
         {
          "font": {
           "color": "black"
          },
          "showarrow": false,
          "text": "2.24",
          "x": 1,
          "xanchor": "center",
          "y": 2.244533791235896,
          "yanchor": "bottom",
          "yshift": 10
         },
         {
          "font": {
           "color": "black"
          },
          "showarrow": false,
          "text": "2.87",
          "x": 2,
          "xanchor": "center",
          "y": 2.8690720771545166,
          "yanchor": "bottom",
          "yshift": 10
         },
         {
          "font": {
           "color": "black"
          },
          "showarrow": false,
          "text": "3.56",
          "x": 3,
          "xanchor": "center",
          "y": 3.555250799456558,
          "yanchor": "bottom",
          "yshift": 10
         },
         {
          "font": {
           "color": "black"
          },
          "showarrow": false,
          "text": "3.26",
          "x": 4,
          "xanchor": "center",
          "y": 3.2572765248067075,
          "yanchor": "bottom",
          "yshift": 10
         },
         {
          "font": {
           "color": "black"
          },
          "showarrow": false,
          "text": "3.95",
          "x": 5,
          "xanchor": "center",
          "y": 3.947706979172966,
          "yanchor": "bottom",
          "yshift": 10
         },
         {
          "font": {
           "color": "black"
          },
          "showarrow": false,
          "text": "3.76",
          "x": 6,
          "xanchor": "center",
          "y": 3.757156128901733,
          "yanchor": "bottom",
          "yshift": 10
         },
         {
          "font": {
           "color": "black"
          },
          "showarrow": false,
          "text": "3.06",
          "x": 7,
          "xanchor": "center",
          "y": 3.0593956517356213,
          "yanchor": "bottom",
          "yshift": 10
         },
         {
          "font": {
           "color": "black"
          },
          "showarrow": false,
          "text": "2.33",
          "x": 8,
          "xanchor": "center",
          "y": 2.329147229914177,
          "yanchor": "bottom",
          "yshift": 10
         },
         {
          "font": {
           "color": "black"
          },
          "showarrow": false,
          "text": "3.32",
          "x": 9,
          "xanchor": "center",
          "y": 3.3155860841792304,
          "yanchor": "bottom",
          "yshift": 10
         },
         {
          "font": {
           "color": "black"
          },
          "showarrow": false,
          "text": "3.74",
          "x": 10,
          "xanchor": "center",
          "y": 3.7414936901940825,
          "yanchor": "bottom",
          "yshift": 10
         },
         {
          "font": {
           "color": "black"
          },
          "showarrow": false,
          "text": "4.09",
          "x": 11,
          "xanchor": "center",
          "y": 4.094691180163962,
          "yanchor": "bottom",
          "yshift": 10
         },
         {
          "font": {
           "color": "black"
          },
          "showarrow": false,
          "text": "4.25",
          "x": 12,
          "xanchor": "center",
          "y": 4.251467326987244,
          "yanchor": "bottom",
          "yshift": 10
         }
        ],
        "template": {
         "data": {
          "bar": [
           {
            "error_x": {
             "color": "#2a3f5f"
            },
            "error_y": {
             "color": "#2a3f5f"
            },
            "marker": {
             "line": {
              "color": "white",
              "width": 0.5
             },
             "pattern": {
              "fillmode": "overlay",
              "size": 10,
              "solidity": 0.2
             }
            },
            "type": "bar"
           }
          ],
          "barpolar": [
           {
            "marker": {
             "line": {
              "color": "white",
              "width": 0.5
             },
             "pattern": {
              "fillmode": "overlay",
              "size": 10,
              "solidity": 0.2
             }
            },
            "type": "barpolar"
           }
          ],
          "carpet": [
           {
            "aaxis": {
             "endlinecolor": "#2a3f5f",
             "gridcolor": "#C8D4E3",
             "linecolor": "#C8D4E3",
             "minorgridcolor": "#C8D4E3",
             "startlinecolor": "#2a3f5f"
            },
            "baxis": {
             "endlinecolor": "#2a3f5f",
             "gridcolor": "#C8D4E3",
             "linecolor": "#C8D4E3",
             "minorgridcolor": "#C8D4E3",
             "startlinecolor": "#2a3f5f"
            },
            "type": "carpet"
           }
          ],
          "choropleth": [
           {
            "colorbar": {
             "outlinewidth": 0,
             "ticks": ""
            },
            "type": "choropleth"
           }
          ],
          "contour": [
           {
            "colorbar": {
             "outlinewidth": 0,
             "ticks": ""
            },
            "colorscale": [
             [
              0,
              "#0d0887"
             ],
             [
              0.1111111111111111,
              "#46039f"
             ],
             [
              0.2222222222222222,
              "#7201a8"
             ],
             [
              0.3333333333333333,
              "#9c179e"
             ],
             [
              0.4444444444444444,
              "#bd3786"
             ],
             [
              0.5555555555555556,
              "#d8576b"
             ],
             [
              0.6666666666666666,
              "#ed7953"
             ],
             [
              0.7777777777777778,
              "#fb9f3a"
             ],
             [
              0.8888888888888888,
              "#fdca26"
             ],
             [
              1,
              "#f0f921"
             ]
            ],
            "type": "contour"
           }
          ],
          "contourcarpet": [
           {
            "colorbar": {
             "outlinewidth": 0,
             "ticks": ""
            },
            "type": "contourcarpet"
           }
          ],
          "heatmap": [
           {
            "colorbar": {
             "outlinewidth": 0,
             "ticks": ""
            },
            "colorscale": [
             [
              0,
              "#0d0887"
             ],
             [
              0.1111111111111111,
              "#46039f"
             ],
             [
              0.2222222222222222,
              "#7201a8"
             ],
             [
              0.3333333333333333,
              "#9c179e"
             ],
             [
              0.4444444444444444,
              "#bd3786"
             ],
             [
              0.5555555555555556,
              "#d8576b"
             ],
             [
              0.6666666666666666,
              "#ed7953"
             ],
             [
              0.7777777777777778,
              "#fb9f3a"
             ],
             [
              0.8888888888888888,
              "#fdca26"
             ],
             [
              1,
              "#f0f921"
             ]
            ],
            "type": "heatmap"
           }
          ],
          "heatmapgl": [
           {
            "colorbar": {
             "outlinewidth": 0,
             "ticks": ""
            },
            "colorscale": [
             [
              0,
              "#0d0887"
             ],
             [
              0.1111111111111111,
              "#46039f"
             ],
             [
              0.2222222222222222,
              "#7201a8"
             ],
             [
              0.3333333333333333,
              "#9c179e"
             ],
             [
              0.4444444444444444,
              "#bd3786"
             ],
             [
              0.5555555555555556,
              "#d8576b"
             ],
             [
              0.6666666666666666,
              "#ed7953"
             ],
             [
              0.7777777777777778,
              "#fb9f3a"
             ],
             [
              0.8888888888888888,
              "#fdca26"
             ],
             [
              1,
              "#f0f921"
             ]
            ],
            "type": "heatmapgl"
           }
          ],
          "histogram": [
           {
            "marker": {
             "pattern": {
              "fillmode": "overlay",
              "size": 10,
              "solidity": 0.2
             }
            },
            "type": "histogram"
           }
          ],
          "histogram2d": [
           {
            "colorbar": {
             "outlinewidth": 0,
             "ticks": ""
            },
            "colorscale": [
             [
              0,
              "#0d0887"
             ],
             [
              0.1111111111111111,
              "#46039f"
             ],
             [
              0.2222222222222222,
              "#7201a8"
             ],
             [
              0.3333333333333333,
              "#9c179e"
             ],
             [
              0.4444444444444444,
              "#bd3786"
             ],
             [
              0.5555555555555556,
              "#d8576b"
             ],
             [
              0.6666666666666666,
              "#ed7953"
             ],
             [
              0.7777777777777778,
              "#fb9f3a"
             ],
             [
              0.8888888888888888,
              "#fdca26"
             ],
             [
              1,
              "#f0f921"
             ]
            ],
            "type": "histogram2d"
           }
          ],
          "histogram2dcontour": [
           {
            "colorbar": {
             "outlinewidth": 0,
             "ticks": ""
            },
            "colorscale": [
             [
              0,
              "#0d0887"
             ],
             [
              0.1111111111111111,
              "#46039f"
             ],
             [
              0.2222222222222222,
              "#7201a8"
             ],
             [
              0.3333333333333333,
              "#9c179e"
             ],
             [
              0.4444444444444444,
              "#bd3786"
             ],
             [
              0.5555555555555556,
              "#d8576b"
             ],
             [
              0.6666666666666666,
              "#ed7953"
             ],
             [
              0.7777777777777778,
              "#fb9f3a"
             ],
             [
              0.8888888888888888,
              "#fdca26"
             ],
             [
              1,
              "#f0f921"
             ]
            ],
            "type": "histogram2dcontour"
           }
          ],
          "mesh3d": [
           {
            "colorbar": {
             "outlinewidth": 0,
             "ticks": ""
            },
            "type": "mesh3d"
           }
          ],
          "parcoords": [
           {
            "line": {
             "colorbar": {
              "outlinewidth": 0,
              "ticks": ""
             }
            },
            "type": "parcoords"
           }
          ],
          "pie": [
           {
            "automargin": true,
            "type": "pie"
           }
          ],
          "scatter": [
           {
            "fillpattern": {
             "fillmode": "overlay",
             "size": 10,
             "solidity": 0.2
            },
            "type": "scatter"
           }
          ],
          "scatter3d": [
           {
            "line": {
             "colorbar": {
              "outlinewidth": 0,
              "ticks": ""
             }
            },
            "marker": {
             "colorbar": {
              "outlinewidth": 0,
              "ticks": ""
             }
            },
            "type": "scatter3d"
           }
          ],
          "scattercarpet": [
           {
            "marker": {
             "colorbar": {
              "outlinewidth": 0,
              "ticks": ""
             }
            },
            "type": "scattercarpet"
           }
          ],
          "scattergeo": [
           {
            "marker": {
             "colorbar": {
              "outlinewidth": 0,
              "ticks": ""
             }
            },
            "type": "scattergeo"
           }
          ],
          "scattergl": [
           {
            "marker": {
             "colorbar": {
              "outlinewidth": 0,
              "ticks": ""
             }
            },
            "type": "scattergl"
           }
          ],
          "scattermapbox": [
           {
            "marker": {
             "colorbar": {
              "outlinewidth": 0,
              "ticks": ""
             }
            },
            "type": "scattermapbox"
           }
          ],
          "scatterpolar": [
           {
            "marker": {
             "colorbar": {
              "outlinewidth": 0,
              "ticks": ""
             }
            },
            "type": "scatterpolar"
           }
          ],
          "scatterpolargl": [
           {
            "marker": {
             "colorbar": {
              "outlinewidth": 0,
              "ticks": ""
             }
            },
            "type": "scatterpolargl"
           }
          ],
          "scatterternary": [
           {
            "marker": {
             "colorbar": {
              "outlinewidth": 0,
              "ticks": ""
             }
            },
            "type": "scatterternary"
           }
          ],
          "surface": [
           {
            "colorbar": {
             "outlinewidth": 0,
             "ticks": ""
            },
            "colorscale": [
             [
              0,
              "#0d0887"
             ],
             [
              0.1111111111111111,
              "#46039f"
             ],
             [
              0.2222222222222222,
              "#7201a8"
             ],
             [
              0.3333333333333333,
              "#9c179e"
             ],
             [
              0.4444444444444444,
              "#bd3786"
             ],
             [
              0.5555555555555556,
              "#d8576b"
             ],
             [
              0.6666666666666666,
              "#ed7953"
             ],
             [
              0.7777777777777778,
              "#fb9f3a"
             ],
             [
              0.8888888888888888,
              "#fdca26"
             ],
             [
              1,
              "#f0f921"
             ]
            ],
            "type": "surface"
           }
          ],
          "table": [
           {
            "cells": {
             "fill": {
              "color": "#EBF0F8"
             },
             "line": {
              "color": "white"
             }
            },
            "header": {
             "fill": {
              "color": "#C8D4E3"
             },
             "line": {
              "color": "white"
             }
            },
            "type": "table"
           }
          ]
         },
         "layout": {
          "annotationdefaults": {
           "arrowcolor": "#2a3f5f",
           "arrowhead": 0,
           "arrowwidth": 1
          },
          "autotypenumbers": "strict",
          "coloraxis": {
           "colorbar": {
            "outlinewidth": 0,
            "ticks": ""
           }
          },
          "colorscale": {
           "diverging": [
            [
             0,
             "#8e0152"
            ],
            [
             0.1,
             "#c51b7d"
            ],
            [
             0.2,
             "#de77ae"
            ],
            [
             0.3,
             "#f1b6da"
            ],
            [
             0.4,
             "#fde0ef"
            ],
            [
             0.5,
             "#f7f7f7"
            ],
            [
             0.6,
             "#e6f5d0"
            ],
            [
             0.7,
             "#b8e186"
            ],
            [
             0.8,
             "#7fbc41"
            ],
            [
             0.9,
             "#4d9221"
            ],
            [
             1,
             "#276419"
            ]
           ],
           "sequential": [
            [
             0,
             "#0d0887"
            ],
            [
             0.1111111111111111,
             "#46039f"
            ],
            [
             0.2222222222222222,
             "#7201a8"
            ],
            [
             0.3333333333333333,
             "#9c179e"
            ],
            [
             0.4444444444444444,
             "#bd3786"
            ],
            [
             0.5555555555555556,
             "#d8576b"
            ],
            [
             0.6666666666666666,
             "#ed7953"
            ],
            [
             0.7777777777777778,
             "#fb9f3a"
            ],
            [
             0.8888888888888888,
             "#fdca26"
            ],
            [
             1,
             "#f0f921"
            ]
           ],
           "sequentialminus": [
            [
             0,
             "#0d0887"
            ],
            [
             0.1111111111111111,
             "#46039f"
            ],
            [
             0.2222222222222222,
             "#7201a8"
            ],
            [
             0.3333333333333333,
             "#9c179e"
            ],
            [
             0.4444444444444444,
             "#bd3786"
            ],
            [
             0.5555555555555556,
             "#d8576b"
            ],
            [
             0.6666666666666666,
             "#ed7953"
            ],
            [
             0.7777777777777778,
             "#fb9f3a"
            ],
            [
             0.8888888888888888,
             "#fdca26"
            ],
            [
             1,
             "#f0f921"
            ]
           ]
          },
          "colorway": [
           "#636efa",
           "#EF553B",
           "#00cc96",
           "#ab63fa",
           "#FFA15A",
           "#19d3f3",
           "#FF6692",
           "#B6E880",
           "#FF97FF",
           "#FECB52"
          ],
          "font": {
           "color": "#2a3f5f"
          },
          "geo": {
           "bgcolor": "white",
           "lakecolor": "white",
           "landcolor": "white",
           "showlakes": true,
           "showland": true,
           "subunitcolor": "#C8D4E3"
          },
          "hoverlabel": {
           "align": "left"
          },
          "hovermode": "closest",
          "mapbox": {
           "style": "light"
          },
          "paper_bgcolor": "white",
          "plot_bgcolor": "white",
          "polar": {
           "angularaxis": {
            "gridcolor": "#EBF0F8",
            "linecolor": "#EBF0F8",
            "ticks": ""
           },
           "bgcolor": "white",
           "radialaxis": {
            "gridcolor": "#EBF0F8",
            "linecolor": "#EBF0F8",
            "ticks": ""
           }
          },
          "scene": {
           "xaxis": {
            "backgroundcolor": "white",
            "gridcolor": "#DFE8F3",
            "gridwidth": 2,
            "linecolor": "#EBF0F8",
            "showbackground": true,
            "ticks": "",
            "zerolinecolor": "#EBF0F8"
           },
           "yaxis": {
            "backgroundcolor": "white",
            "gridcolor": "#DFE8F3",
            "gridwidth": 2,
            "linecolor": "#EBF0F8",
            "showbackground": true,
            "ticks": "",
            "zerolinecolor": "#EBF0F8"
           },
           "zaxis": {
            "backgroundcolor": "white",
            "gridcolor": "#DFE8F3",
            "gridwidth": 2,
            "linecolor": "#EBF0F8",
            "showbackground": true,
            "ticks": "",
            "zerolinecolor": "#EBF0F8"
           }
          },
          "shapedefaults": {
           "line": {
            "color": "#2a3f5f"
           }
          },
          "ternary": {
           "aaxis": {
            "gridcolor": "#DFE8F3",
            "linecolor": "#A2B1C6",
            "ticks": ""
           },
           "baxis": {
            "gridcolor": "#DFE8F3",
            "linecolor": "#A2B1C6",
            "ticks": ""
           },
           "bgcolor": "white",
           "caxis": {
            "gridcolor": "#DFE8F3",
            "linecolor": "#A2B1C6",
            "ticks": ""
           }
          },
          "title": {
           "x": 0.05
          },
          "xaxis": {
           "automargin": true,
           "gridcolor": "#EBF0F8",
           "linecolor": "#EBF0F8",
           "ticks": "",
           "title": {
            "standoff": 15
           },
           "zerolinecolor": "#EBF0F8",
           "zerolinewidth": 2
          },
          "yaxis": {
           "automargin": true,
           "gridcolor": "#EBF0F8",
           "linecolor": "#EBF0F8",
           "ticks": "",
           "title": {
            "standoff": 15
           },
           "zerolinecolor": "#EBF0F8",
           "zerolinewidth": 2
          }
         }
        },
        "title": {
         "text": "Interest Rate Spread Over time"
        },
        "xaxis": {
         "title": {
          "text": "Month"
         }
        },
        "yaxis": {
         "title": {
          "text": "Interest Rate Spread (%)"
         }
        }
       }
      }
     },
     "metadata": {},
     "output_type": "display_data"
    }
   ],
   "source": [
    "fig = go.Figure()\n",
    "\n",
    "# Add traces for each year with custom colors\n",
    "fig.add_trace(go.Scatter(x=df['month'], y=df_2020['interest_rate_spread'], name='Interest Rate Spread 2020',mode='markers+lines',line=dict(color='firebrick',width=2)))\n",
    "fig.add_trace(go.Scatter(x=df['month'], y=df_2021['interest_rate_spread'], name='Interest Rate Spread 2021',mode='markers+lines',line=dict(color='royalblue',width=2)))\n",
    "fig.add_trace(go.Scatter(x=df['month'], y=df_2022['interest_rate_spread'], name='Interest Rate Spread 2022',mode='markers+lines',line=dict(color='red',width=2)))\n",
    "fig.add_trace(go.Scatter(x=df['month'], y=df_2023['interest_rate_spread'], name='Interest Rate Spread 2023',mode='markers+lines',line=dict(color='green',width=2)))\n",
    "fig.add_trace(go.Scatter(x=df['month'], y=df_2024['interest_rate_spread'], name='Interest Rate Spread 2024',mode='markers+lines',line=dict(color='yellow',width=2)))\n",
    "\n",
    "# Add annotations for each point\n",
    "for year, data in zip(range(2020, 2025), [df_2020, df_2021, df_2022, df_2023, df_2024]):\n",
    "    for month, spread in zip(data['month'], data['interest_rate_spread']):\n",
    "        fig.add_annotation(x=month, y=spread,\n",
    "                           text=str(round(spread, 2)),\n",
    "                           showarrow=False,\n",
    "                           font=dict(color=\"black\"),\n",
    "                           xanchor='center', yanchor='bottom', yshift=10)\n",
    "        \n",
    "fig.update_layout(title='Interest Rate Spread Over time',\n",
    "                   xaxis_title='Month',\n",
    "                   yaxis_title='Interest Rate Spread (%)',template='plotly_white')\n",
    "\n",
    "fig.show()"
   ]
  },
  {
   "cell_type": "markdown",
   "metadata": {},
   "source": [
    "DISTRIBUTION OF INTEREST RATE SPREAD IN THE DATASET"
   ]
  },
  {
   "cell_type": "code",
   "execution_count": 10,
   "metadata": {},
   "outputs": [
    {
     "data": {
      "application/vnd.plotly.v1+json": {
       "config": {
        "plotlyServerURL": "https://plot.ly"
       },
       "data": [
        {
         "alignmentgroup": "True",
         "bingroup": "x",
         "histnorm": "probability density",
         "hovertemplate": "interest_rate_spread=%{x}<br>probability density=%{y}<extra></extra>",
         "legendgroup": "",
         "marker": {
          "color": "#636efa",
          "pattern": {
           "shape": ""
          }
         },
         "name": "",
         "nbinsx": 10,
         "offsetgroup": "",
         "orientation": "v",
         "showlegend": false,
         "type": "histogram",
         "x": [
          2.762195588802829,
          2.649691644234649,
          2.4501380547083462,
          3.4843146812148307,
          2.5065713529735207,
          3.393295265901542,
          3.2072126519473096,
          2.607640852038064,
          4.157779802698298,
          1.855627356279094,
          3.368504289566781,
          3.8249699840887352,
          3.5722499241413184,
          3.366336863856884,
          3.0857552539964184,
          3.867478663870648,
          3.537785258093841,
          2.18596606103444,
          3.2553038989376915,
          2.196617757546844,
          4.461575127204409,
          2.9079881972986605,
          3.64839818227373,
          2.994705908963309,
          3.754901656100965,
          4.105897873900652,
          2.158600601295566,
          3.156688322455676,
          4.462533701902094,
          3.8906626677596376,
          2.462718237965459,
          5.124428012900302,
          3.3362585372378746,
          5.034514698668939,
          4.44870340094916,
          3.7158096854469136,
          3.843947994220062,
          3.6553773200268913,
          4.68473047173255,
          3.06106024139126,
          4.147716801751834,
          4.683570580897452,
          4.566094464802232,
          3.32109335256711,
          4.524366203901808,
          4.253136266012331,
          2.6583166245082586,
          3.595034101370968,
          2.244533791235896,
          2.8690720771545166,
          3.555250799456558,
          3.2572765248067075,
          3.947706979172966,
          3.757156128901733,
          3.0593956517356213,
          2.329147229914177,
          3.3155860841792304,
          3.7414936901940825,
          4.094691180163962,
          4.251467326987244
         ],
         "xaxis": "x",
         "yaxis": "y"
        }
       ],
       "layout": {
        "barmode": "relative",
        "legend": {
         "tracegroupgap": 0
        },
        "template": {
         "data": {
          "bar": [
           {
            "error_x": {
             "color": "#2a3f5f"
            },
            "error_y": {
             "color": "#2a3f5f"
            },
            "marker": {
             "line": {
              "color": "white",
              "width": 0.5
             },
             "pattern": {
              "fillmode": "overlay",
              "size": 10,
              "solidity": 0.2
             }
            },
            "type": "bar"
           }
          ],
          "barpolar": [
           {
            "marker": {
             "line": {
              "color": "white",
              "width": 0.5
             },
             "pattern": {
              "fillmode": "overlay",
              "size": 10,
              "solidity": 0.2
             }
            },
            "type": "barpolar"
           }
          ],
          "carpet": [
           {
            "aaxis": {
             "endlinecolor": "#2a3f5f",
             "gridcolor": "#C8D4E3",
             "linecolor": "#C8D4E3",
             "minorgridcolor": "#C8D4E3",
             "startlinecolor": "#2a3f5f"
            },
            "baxis": {
             "endlinecolor": "#2a3f5f",
             "gridcolor": "#C8D4E3",
             "linecolor": "#C8D4E3",
             "minorgridcolor": "#C8D4E3",
             "startlinecolor": "#2a3f5f"
            },
            "type": "carpet"
           }
          ],
          "choropleth": [
           {
            "colorbar": {
             "outlinewidth": 0,
             "ticks": ""
            },
            "type": "choropleth"
           }
          ],
          "contour": [
           {
            "colorbar": {
             "outlinewidth": 0,
             "ticks": ""
            },
            "colorscale": [
             [
              0,
              "#0d0887"
             ],
             [
              0.1111111111111111,
              "#46039f"
             ],
             [
              0.2222222222222222,
              "#7201a8"
             ],
             [
              0.3333333333333333,
              "#9c179e"
             ],
             [
              0.4444444444444444,
              "#bd3786"
             ],
             [
              0.5555555555555556,
              "#d8576b"
             ],
             [
              0.6666666666666666,
              "#ed7953"
             ],
             [
              0.7777777777777778,
              "#fb9f3a"
             ],
             [
              0.8888888888888888,
              "#fdca26"
             ],
             [
              1,
              "#f0f921"
             ]
            ],
            "type": "contour"
           }
          ],
          "contourcarpet": [
           {
            "colorbar": {
             "outlinewidth": 0,
             "ticks": ""
            },
            "type": "contourcarpet"
           }
          ],
          "heatmap": [
           {
            "colorbar": {
             "outlinewidth": 0,
             "ticks": ""
            },
            "colorscale": [
             [
              0,
              "#0d0887"
             ],
             [
              0.1111111111111111,
              "#46039f"
             ],
             [
              0.2222222222222222,
              "#7201a8"
             ],
             [
              0.3333333333333333,
              "#9c179e"
             ],
             [
              0.4444444444444444,
              "#bd3786"
             ],
             [
              0.5555555555555556,
              "#d8576b"
             ],
             [
              0.6666666666666666,
              "#ed7953"
             ],
             [
              0.7777777777777778,
              "#fb9f3a"
             ],
             [
              0.8888888888888888,
              "#fdca26"
             ],
             [
              1,
              "#f0f921"
             ]
            ],
            "type": "heatmap"
           }
          ],
          "heatmapgl": [
           {
            "colorbar": {
             "outlinewidth": 0,
             "ticks": ""
            },
            "colorscale": [
             [
              0,
              "#0d0887"
             ],
             [
              0.1111111111111111,
              "#46039f"
             ],
             [
              0.2222222222222222,
              "#7201a8"
             ],
             [
              0.3333333333333333,
              "#9c179e"
             ],
             [
              0.4444444444444444,
              "#bd3786"
             ],
             [
              0.5555555555555556,
              "#d8576b"
             ],
             [
              0.6666666666666666,
              "#ed7953"
             ],
             [
              0.7777777777777778,
              "#fb9f3a"
             ],
             [
              0.8888888888888888,
              "#fdca26"
             ],
             [
              1,
              "#f0f921"
             ]
            ],
            "type": "heatmapgl"
           }
          ],
          "histogram": [
           {
            "marker": {
             "pattern": {
              "fillmode": "overlay",
              "size": 10,
              "solidity": 0.2
             }
            },
            "type": "histogram"
           }
          ],
          "histogram2d": [
           {
            "colorbar": {
             "outlinewidth": 0,
             "ticks": ""
            },
            "colorscale": [
             [
              0,
              "#0d0887"
             ],
             [
              0.1111111111111111,
              "#46039f"
             ],
             [
              0.2222222222222222,
              "#7201a8"
             ],
             [
              0.3333333333333333,
              "#9c179e"
             ],
             [
              0.4444444444444444,
              "#bd3786"
             ],
             [
              0.5555555555555556,
              "#d8576b"
             ],
             [
              0.6666666666666666,
              "#ed7953"
             ],
             [
              0.7777777777777778,
              "#fb9f3a"
             ],
             [
              0.8888888888888888,
              "#fdca26"
             ],
             [
              1,
              "#f0f921"
             ]
            ],
            "type": "histogram2d"
           }
          ],
          "histogram2dcontour": [
           {
            "colorbar": {
             "outlinewidth": 0,
             "ticks": ""
            },
            "colorscale": [
             [
              0,
              "#0d0887"
             ],
             [
              0.1111111111111111,
              "#46039f"
             ],
             [
              0.2222222222222222,
              "#7201a8"
             ],
             [
              0.3333333333333333,
              "#9c179e"
             ],
             [
              0.4444444444444444,
              "#bd3786"
             ],
             [
              0.5555555555555556,
              "#d8576b"
             ],
             [
              0.6666666666666666,
              "#ed7953"
             ],
             [
              0.7777777777777778,
              "#fb9f3a"
             ],
             [
              0.8888888888888888,
              "#fdca26"
             ],
             [
              1,
              "#f0f921"
             ]
            ],
            "type": "histogram2dcontour"
           }
          ],
          "mesh3d": [
           {
            "colorbar": {
             "outlinewidth": 0,
             "ticks": ""
            },
            "type": "mesh3d"
           }
          ],
          "parcoords": [
           {
            "line": {
             "colorbar": {
              "outlinewidth": 0,
              "ticks": ""
             }
            },
            "type": "parcoords"
           }
          ],
          "pie": [
           {
            "automargin": true,
            "type": "pie"
           }
          ],
          "scatter": [
           {
            "fillpattern": {
             "fillmode": "overlay",
             "size": 10,
             "solidity": 0.2
            },
            "type": "scatter"
           }
          ],
          "scatter3d": [
           {
            "line": {
             "colorbar": {
              "outlinewidth": 0,
              "ticks": ""
             }
            },
            "marker": {
             "colorbar": {
              "outlinewidth": 0,
              "ticks": ""
             }
            },
            "type": "scatter3d"
           }
          ],
          "scattercarpet": [
           {
            "marker": {
             "colorbar": {
              "outlinewidth": 0,
              "ticks": ""
             }
            },
            "type": "scattercarpet"
           }
          ],
          "scattergeo": [
           {
            "marker": {
             "colorbar": {
              "outlinewidth": 0,
              "ticks": ""
             }
            },
            "type": "scattergeo"
           }
          ],
          "scattergl": [
           {
            "marker": {
             "colorbar": {
              "outlinewidth": 0,
              "ticks": ""
             }
            },
            "type": "scattergl"
           }
          ],
          "scattermapbox": [
           {
            "marker": {
             "colorbar": {
              "outlinewidth": 0,
              "ticks": ""
             }
            },
            "type": "scattermapbox"
           }
          ],
          "scatterpolar": [
           {
            "marker": {
             "colorbar": {
              "outlinewidth": 0,
              "ticks": ""
             }
            },
            "type": "scatterpolar"
           }
          ],
          "scatterpolargl": [
           {
            "marker": {
             "colorbar": {
              "outlinewidth": 0,
              "ticks": ""
             }
            },
            "type": "scatterpolargl"
           }
          ],
          "scatterternary": [
           {
            "marker": {
             "colorbar": {
              "outlinewidth": 0,
              "ticks": ""
             }
            },
            "type": "scatterternary"
           }
          ],
          "surface": [
           {
            "colorbar": {
             "outlinewidth": 0,
             "ticks": ""
            },
            "colorscale": [
             [
              0,
              "#0d0887"
             ],
             [
              0.1111111111111111,
              "#46039f"
             ],
             [
              0.2222222222222222,
              "#7201a8"
             ],
             [
              0.3333333333333333,
              "#9c179e"
             ],
             [
              0.4444444444444444,
              "#bd3786"
             ],
             [
              0.5555555555555556,
              "#d8576b"
             ],
             [
              0.6666666666666666,
              "#ed7953"
             ],
             [
              0.7777777777777778,
              "#fb9f3a"
             ],
             [
              0.8888888888888888,
              "#fdca26"
             ],
             [
              1,
              "#f0f921"
             ]
            ],
            "type": "surface"
           }
          ],
          "table": [
           {
            "cells": {
             "fill": {
              "color": "#EBF0F8"
             },
             "line": {
              "color": "white"
             }
            },
            "header": {
             "fill": {
              "color": "#C8D4E3"
             },
             "line": {
              "color": "white"
             }
            },
            "type": "table"
           }
          ]
         },
         "layout": {
          "annotationdefaults": {
           "arrowcolor": "#2a3f5f",
           "arrowhead": 0,
           "arrowwidth": 1
          },
          "autotypenumbers": "strict",
          "coloraxis": {
           "colorbar": {
            "outlinewidth": 0,
            "ticks": ""
           }
          },
          "colorscale": {
           "diverging": [
            [
             0,
             "#8e0152"
            ],
            [
             0.1,
             "#c51b7d"
            ],
            [
             0.2,
             "#de77ae"
            ],
            [
             0.3,
             "#f1b6da"
            ],
            [
             0.4,
             "#fde0ef"
            ],
            [
             0.5,
             "#f7f7f7"
            ],
            [
             0.6,
             "#e6f5d0"
            ],
            [
             0.7,
             "#b8e186"
            ],
            [
             0.8,
             "#7fbc41"
            ],
            [
             0.9,
             "#4d9221"
            ],
            [
             1,
             "#276419"
            ]
           ],
           "sequential": [
            [
             0,
             "#0d0887"
            ],
            [
             0.1111111111111111,
             "#46039f"
            ],
            [
             0.2222222222222222,
             "#7201a8"
            ],
            [
             0.3333333333333333,
             "#9c179e"
            ],
            [
             0.4444444444444444,
             "#bd3786"
            ],
            [
             0.5555555555555556,
             "#d8576b"
            ],
            [
             0.6666666666666666,
             "#ed7953"
            ],
            [
             0.7777777777777778,
             "#fb9f3a"
            ],
            [
             0.8888888888888888,
             "#fdca26"
            ],
            [
             1,
             "#f0f921"
            ]
           ],
           "sequentialminus": [
            [
             0,
             "#0d0887"
            ],
            [
             0.1111111111111111,
             "#46039f"
            ],
            [
             0.2222222222222222,
             "#7201a8"
            ],
            [
             0.3333333333333333,
             "#9c179e"
            ],
            [
             0.4444444444444444,
             "#bd3786"
            ],
            [
             0.5555555555555556,
             "#d8576b"
            ],
            [
             0.6666666666666666,
             "#ed7953"
            ],
            [
             0.7777777777777778,
             "#fb9f3a"
            ],
            [
             0.8888888888888888,
             "#fdca26"
            ],
            [
             1,
             "#f0f921"
            ]
           ]
          },
          "colorway": [
           "#636efa",
           "#EF553B",
           "#00cc96",
           "#ab63fa",
           "#FFA15A",
           "#19d3f3",
           "#FF6692",
           "#B6E880",
           "#FF97FF",
           "#FECB52"
          ],
          "font": {
           "color": "#2a3f5f"
          },
          "geo": {
           "bgcolor": "white",
           "lakecolor": "white",
           "landcolor": "white",
           "showlakes": true,
           "showland": true,
           "subunitcolor": "#C8D4E3"
          },
          "hoverlabel": {
           "align": "left"
          },
          "hovermode": "closest",
          "mapbox": {
           "style": "light"
          },
          "paper_bgcolor": "white",
          "plot_bgcolor": "white",
          "polar": {
           "angularaxis": {
            "gridcolor": "#EBF0F8",
            "linecolor": "#EBF0F8",
            "ticks": ""
           },
           "bgcolor": "white",
           "radialaxis": {
            "gridcolor": "#EBF0F8",
            "linecolor": "#EBF0F8",
            "ticks": ""
           }
          },
          "scene": {
           "xaxis": {
            "backgroundcolor": "white",
            "gridcolor": "#DFE8F3",
            "gridwidth": 2,
            "linecolor": "#EBF0F8",
            "showbackground": true,
            "ticks": "",
            "zerolinecolor": "#EBF0F8"
           },
           "yaxis": {
            "backgroundcolor": "white",
            "gridcolor": "#DFE8F3",
            "gridwidth": 2,
            "linecolor": "#EBF0F8",
            "showbackground": true,
            "ticks": "",
            "zerolinecolor": "#EBF0F8"
           },
           "zaxis": {
            "backgroundcolor": "white",
            "gridcolor": "#DFE8F3",
            "gridwidth": 2,
            "linecolor": "#EBF0F8",
            "showbackground": true,
            "ticks": "",
            "zerolinecolor": "#EBF0F8"
           }
          },
          "shapedefaults": {
           "line": {
            "color": "#2a3f5f"
           }
          },
          "ternary": {
           "aaxis": {
            "gridcolor": "#DFE8F3",
            "linecolor": "#A2B1C6",
            "ticks": ""
           },
           "baxis": {
            "gridcolor": "#DFE8F3",
            "linecolor": "#A2B1C6",
            "ticks": ""
           },
           "bgcolor": "white",
           "caxis": {
            "gridcolor": "#DFE8F3",
            "linecolor": "#A2B1C6",
            "ticks": ""
           }
          },
          "title": {
           "x": 0.05
          },
          "xaxis": {
           "automargin": true,
           "gridcolor": "#EBF0F8",
           "linecolor": "#EBF0F8",
           "ticks": "",
           "title": {
            "standoff": 15
           },
           "zerolinecolor": "#EBF0F8",
           "zerolinewidth": 2
          },
          "yaxis": {
           "automargin": true,
           "gridcolor": "#EBF0F8",
           "linecolor": "#EBF0F8",
           "ticks": "",
           "title": {
            "standoff": 15
           },
           "zerolinecolor": "#EBF0F8",
           "zerolinewidth": 2
          }
         }
        },
        "title": {
         "text": "Distribution of Interest Rate Spread"
        },
        "xaxis": {
         "anchor": "y",
         "domain": [
          0,
          1
         ],
         "title": {
          "text": "<b>Interest Rate Spread (%)</b>"
         }
        },
        "yaxis": {
         "anchor": "x",
         "domain": [
          0,
          1
         ],
         "title": {
          "text": "<b>Probability Density</b>"
         }
        }
       }
      }
     },
     "metadata": {},
     "output_type": "display_data"
    }
   ],
   "source": [
    "fig1 = px.histogram(df['interest_rate_spread'], nbins=10, x='interest_rate_spread', title='Distribution of Interest Rate Spread',histnorm='probability density', template='plotly_white')\n",
    "labels = {'interest_rate_spread': '<b>Interest Rate Spread (%)</b>', 'count':'<b>Probability Density</b>'}\n",
    "\n",
    "# Update the axis labels\n",
    "fig1.update_layout(xaxis_title=labels['interest_rate_spread'], yaxis_title=labels['count'])\n",
    "\n",
    "fig1.show()"
   ]
  }
 ],
 "metadata": {
  "kernelspec": {
   "display_name": "base",
   "language": "python",
   "name": "python3"
  },
  "language_info": {
   "codemirror_mode": {
    "name": "ipython",
    "version": 3
   },
   "file_extension": ".py",
   "mimetype": "text/x-python",
   "name": "python",
   "nbconvert_exporter": "python",
   "pygments_lexer": "ipython3",
   "version": "3.11.7"
  }
 },
 "nbformat": 4,
 "nbformat_minor": 2
}
